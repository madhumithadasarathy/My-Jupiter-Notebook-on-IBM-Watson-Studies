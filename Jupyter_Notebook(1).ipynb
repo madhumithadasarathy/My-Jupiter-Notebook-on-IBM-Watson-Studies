{
 "cells": [
  {
   "cell_type": "markdown",
   "metadata": {},
   "source": [
    "<center>\n",
    "    <img src=\"https://s3-api.us-geo.objectstorage.softlayer.net/cf-courses-data/CognitiveClass/Logos/organization_logo/organization_logo.png\" width=\"300\" alt=\"cognitiveclass.ai logo\"  />\n",
    "</center>\n"
   ]
  },
  {
   "cell_type": "markdown",
   "metadata": {},
   "source": [
    "#### Add your code below following the instructions given in the course\n"
   ]
  },
  {
   "cell_type": "markdown",
   "metadata": {},
   "source": [
    "<a href=\"https://dataplatform.cloud.ibm.com/gallery\">IBM Cloud Gallery</a>\n"
   ]
  },
  {
   "cell_type": "markdown",
   "metadata": {},
   "source": [
    "# Header 1\n"
   ]
  },
  {
   "cell_type": "markdown",
   "metadata": {},
   "source": [
    "| header | header |\n",
    "| ------ | ------ |\n",
    "| cell | cell |\n"
   ]
  },
  {
   "cell_type": "markdown",
   "metadata": {},
   "source": [
    "# My Jupyter Notebook on IBM Watson Studio\n"
   ]
  },
  {
   "cell_type": "markdown",
   "metadata": {},
   "source": [
    "NAME: **MADHUMITHA DASARATHY**\n",
    "\n",
    "DESIRED OCCUPATION : **ARTIFICIAL INTELLIGENCE AND MACHINE LEARNING ENGINEER**"
   ]
  },
  {
   "cell_type": "markdown",
   "metadata": {},
   "source": [
    "*The field of data science was always a subject of fascination to me. It is crazy how versatile data is. I believe data analysis and data science as a job are close to that of a detective. The way a data scientist is able to draw meaningful insights from raw data given to them seems like putting together the pieces of an interesting puzzle to me. I believe this field would help me quench the flames of creativity and curiosity within me.*"
   ]
  },
  {
   "cell_type": "markdown",
   "metadata": {},
   "source": [
    "### The following code shows how the values of two variables could be interchanged using a third variable ###"
   ]
  },
  {
   "cell_type": "code",
   "execution_count": 2,
   "metadata": {},
   "outputs": [
    {
     "name": "stdout",
     "output_type": "stream",
     "text": [
      "Before interchanging\n",
      "a = 10 b = 20\n",
      "After interchanging\n",
      "a = 20 b = 10\n"
     ]
    }
   ],
   "source": [
    "a=10\n",
    "b=20\n",
    "print(\"Before interchanging\")\n",
    "print(\"a =\",a,\"b =\",b)\n",
    "t=b\n",
    "b=a\n",
    "a=t\n",
    "print(\"After interchanging\")\n",
    "print(\"a =\",a,\"b =\",b)"
   ]
  },
  {
   "cell_type": "markdown",
   "metadata": {},
   "source": [
    "__________________________________________________________\n",
    "* Bulleted item\n",
    "* Bulleted item\n",
    "* Bulleted item\n",
    "\n",
    "CODE:\n",
    "` a=20\n",
    "print(a)\n",
    "`\n"
   ]
  },
  {
   "cell_type": "code",
   "execution_count": null,
   "metadata": {},
   "outputs": [],
   "source": []
  }
 ],
 "metadata": {
  "kernelspec": {
   "display_name": "Python",
   "language": "python",
   "name": "conda-env-python-py"
  },
  "language_info": {
   "codemirror_mode": {
    "name": "ipython",
    "version": 3
   },
   "file_extension": ".py",
   "mimetype": "text/x-python",
   "name": "python",
   "nbconvert_exporter": "python",
   "pygments_lexer": "ipython3",
   "version": "3.7.12"
  }
 },
 "nbformat": 4,
 "nbformat_minor": 4
}
